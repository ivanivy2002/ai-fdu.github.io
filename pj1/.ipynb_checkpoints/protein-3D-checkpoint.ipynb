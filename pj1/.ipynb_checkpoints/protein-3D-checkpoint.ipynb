{
 "cells": [
  {
   "cell_type": "markdown",
   "metadata": {
    "id": "r3qznmgak2XM"
   },
   "source": [
    "# View protein structure in 3D\n",
    "\n",
    "More visualization options [here](https://colab.research.google.com/drive/1T2zR59TXyWRcNxRgOAiqVPJWhep83NV_?usp=sharing#scrollTo=0N6PEYCyGx5g)."
   ]
  },
  {
   "cell_type": "code",
   "execution_count": null,
   "metadata": {
    "collapsed": false,
    "is_executing": true
   },
   "outputs": [],
   "source": [
    "import sys\n",
    "print(sys.version)\n"
   ]
  },
  {
   "cell_type": "code",
   "execution_count": 2,
   "metadata": {
    "ExecuteTime": {
     "end_time": "2024-03-30T07:29:30.180Z",
     "start_time": "2024-03-30T07:29:11.174Z"
    },
    "executionInfo": {
     "elapsed": 5041,
     "status": "ok",
     "timestamp": 1644112008903,
     "user": {
      "displayName": "Michael Duprey",
      "photoUrl": "https://lh3.googleusercontent.com/a-/AOh14GhbSFcjL36v0OKLBQ3jUFBauo0tBLUD-KT_zCMchw=s64",
      "userId": "05498947526580544465"
     },
     "user_tz": 420
    },
    "id": "wKuId4wiAfxg"
   },
   "outputs": [
    {
     "name": "stdout",
     "output_type": "stream",
     "text": [
      "^C\n"
     ]
    },
    {
     "name": "stderr",
     "output_type": "stream",
     "text": [
      "DEPRECATION: Python 2.7 reached the end of its life on January 1st, 2020. Please upgrade your Python as Python 2.7 is no longer maintained. pip 21.0 will drop support for Python 2.7 in January 2021. More details about Python 2 support in pip can be found at https://pip.pypa.io/en/latest/development/release-process/#python-2-support pip 21.0 will remove support for this functionality.\n",
      "WARNING: Retrying (Retry(total=4, connect=None, read=None, redirect=None, status=None)) after connection broken by 'SSLError(SSLEOFError(8, u'EOF occurred in violation of protocol (_ssl.c:661)'),)': /simple/biopython/\n",
      "WARNING: Retrying (Retry(total=3, connect=None, read=None, redirect=None, status=None)) after connection broken by 'SSLError(SSLEOFError(8, u'EOF occurred in violation of protocol (_ssl.c:661)'),)': /simple/biopython/\n",
      "WARNING: Retrying (Retry(total=2, connect=None, read=None, redirect=None, status=None)) after connection broken by 'SSLError(SSLEOFError(8, u'EOF occurred in violation of protocol (_ssl.c:661)'),)': /simple/biopython/\n",
      "WARNING: Retrying (Retry(total=1, connect=None, read=None, redirect=None, status=None)) after connection broken by 'SSLError(SSLEOFError(8, u'EOF occurred in violation of protocol (_ssl.c:661)'),)': /simple/biopython/\n",
      "WARNING: Retrying (Retry(total=0, connect=None, read=None, redirect=None, status=None)) after connection broken by 'SSLError(SSLEOFError(8, u'EOF occurred in violation of protocol (_ssl.c:661)'),)': /simple/biopython/\n",
      "ERROR: Could not find a version that satisfies the requirement biopython (from versions: none)\n",
      "ERROR: No matching distribution found for biopython\n",
      "DEPRECATION: Python 2.7 reached the end of its life on January 1st, 2020. Please upgrade your Python as Python 2.7 is no longer maintained. pip 21.0 will drop support for Python 2.7 in January 2021. More details about Python 2 support in pip can be found at https://pip.pypa.io/en/latest/development/release-process/#python-2-support pip 21.0 will remove support for this functionality.\n"
     ]
    }
   ],
   "source": [
    "! pip install --upgrade pip\n",
    "! pip install -q biopython\n",
    "! pip install -q py3Dmol"
   ]
  },
  {
   "cell_type": "code",
   "execution_count": 3,
   "metadata": {
    "ExecuteTime": {
     "end_time": "2024-03-30T07:29:30.622Z",
     "start_time": "2024-03-30T07:29:30.182Z"
    },
    "executionInfo": {
     "elapsed": 135,
     "status": "ok",
     "timestamp": 1644112153217,
     "user": {
      "displayName": "Michael Duprey",
      "photoUrl": "https://lh3.googleusercontent.com/a-/AOh14GhbSFcjL36v0OKLBQ3jUFBauo0tBLUD-KT_zCMchw=s64",
      "userId": "05498947526580544465"
     },
     "user_tz": 420
    },
    "id": "u5yvkkN3AJ7o"
   },
   "outputs": [
    {
     "ename": "ImportError",
     "evalue": "No module named Bio.PDB",
     "output_type": "error",
     "traceback": [
      "\u001b[1;31m\u001b[0m",
      "\u001b[1;31mImportError\u001b[0mTraceback (most recent call last)",
      "\u001b[1;32m<ipython-input-3-e8eaf659a36e>\u001b[0m in \u001b[0;36m<module>\u001b[1;34m()\u001b[0m\n\u001b[0;32m      5\u001b[0m \u001b[1;32mimport\u001b[0m \u001b[0mrandom\u001b[0m\u001b[1;33m\u001b[0m\u001b[0m\n\u001b[0;32m      6\u001b[0m \u001b[1;33m\u001b[0m\u001b[0m\n\u001b[1;32m----> 7\u001b[1;33m \u001b[1;32mfrom\u001b[0m \u001b[0mBio\u001b[0m\u001b[1;33m.\u001b[0m\u001b[0mPDB\u001b[0m \u001b[1;32mimport\u001b[0m \u001b[0mPDBParser\u001b[0m\u001b[1;33m,\u001b[0m \u001b[0mPDBList\u001b[0m\u001b[1;33m\u001b[0m\u001b[0m\n\u001b[0m",
      "\u001b[1;31mImportError\u001b[0m: No module named Bio.PDB"
     ]
    }
   ],
   "source": [
    "import os\n",
    "import numpy as np\n",
    "import matplotlib.pyplot as plt\n",
    "import py3Dmol\n",
    "import random\n",
    "\n",
    "from Bio.PDB import PDBParser, PDBList"
   ]
  },
  {
   "cell_type": "code",
   "execution_count": null,
   "metadata": {
    "ExecuteTime": {
     "start_time": "2024-03-30T07:29:30.622Z"
    },
    "executionInfo": {
     "elapsed": 130,
     "status": "ok",
     "timestamp": 1644112155094,
     "user": {
      "displayName": "Michael Duprey",
      "photoUrl": "https://lh3.googleusercontent.com/a-/AOh14GhbSFcjL36v0OKLBQ3jUFBauo0tBLUD-KT_zCMchw=s64",
      "userId": "05498947526580544465"
     },
     "user_tz": 420
    },
    "id": "LoPkRMLYA06C"
   },
   "outputs": [],
   "source": [
    "parser = PDBParser(PERMISSIVE=1, QUIET=True)"
   ]
  },
  {
   "cell_type": "code",
   "execution_count": null,
   "metadata": {
    "ExecuteTime": {
     "start_time": "2024-03-30T07:29:30.623Z"
    }
   },
   "outputs": [],
   "source": [
    "os.chdir('./data')"
   ]
  },
  {
   "cell_type": "markdown",
   "metadata": {
    "id": "WTIpZjwv3cIk"
   },
   "source": [
    "Define function to render the 3D structure"
   ]
  },
  {
   "cell_type": "code",
   "execution_count": null,
   "metadata": {
    "ExecuteTime": {
     "start_time": "2024-03-30T07:29:30.625Z"
    },
    "executionInfo": {
     "elapsed": 151,
     "status": "ok",
     "timestamp": 1644112016080,
     "user": {
      "displayName": "Michael Duprey",
      "photoUrl": "https://lh3.googleusercontent.com/a-/AOh14GhbSFcjL36v0OKLBQ3jUFBauo0tBLUD-KT_zCMchw=s64",
      "userId": "05498947526580544465"
     },
     "user_tz": 420
    },
    "id": "5T3NbKHRuemd"
   },
   "outputs": [],
   "source": [
    "def view_mol(file, style=None):\n",
    "    \"\"\"\n",
    "    Given a file path to PDB .ent file, parse it and render the 3D structure\n",
    "    \"\"\"\n",
    "    file_name = os.path.split(file)[1]\n",
    "    structure_id = os.path.splitext(file_name)[0] \n",
    "    structure = parser.get_structure(structure_id, file)\n",
    "    try:\n",
    "        pdb_id = parser.get_header()['idcode']\n",
    "    except KeyError:\n",
    "        pdb_id = parser.get_header()['astral']['Source-PDB']\n",
    "\n",
    "    mol = py3Dmol.view(query='pdb:'+pdb_id)\n",
    "    if style == 'cartoon':\n",
    "        mol.setStyle({'cartoon':{'color':'spectrum', 'arrows':'true'}})\n",
    "    \n",
    "    return mol.render()"
   ]
  },
  {
   "cell_type": "markdown",
   "metadata": {
    "id": "53Lv-_543gV8"
   },
   "source": [
    "## Select files"
   ]
  },
  {
   "cell_type": "markdown",
   "metadata": {
    "id": "zW_xzMIEA-0Y"
   },
   "source": [
    "If PDB files stored on Google Drive"
   ]
  },
  {
   "cell_type": "code",
   "execution_count": null,
   "metadata": {
    "ExecuteTime": {
     "start_time": "2024-03-30T07:29:30.626Z"
    },
    "executionInfo": {
     "elapsed": 134,
     "status": "ok",
     "timestamp": 1644112159215,
     "user": {
      "displayName": "Michael Duprey",
      "photoUrl": "https://lh3.googleusercontent.com/a-/AOh14GhbSFcjL36v0OKLBQ3jUFBauo0tBLUD-KT_zCMchw=s64",
      "userId": "05498947526580544465"
     },
     "user_tz": 420
    },
    "id": "xbWfOZtXzcXn"
   },
   "outputs": [],
   "source": [
    "file = './SCOP40mini/' + random.choice(os.listdir('./SCOP40mini/'))"
   ]
  },
  {
   "cell_type": "markdown",
   "metadata": {
    "id": "jEO-0aU-BGeE"
   },
   "source": [
    "If downloading from PDB"
   ]
  },
  {
   "cell_type": "code",
   "execution_count": null,
   "metadata": {
    "ExecuteTime": {
     "start_time": "2024-03-30T07:29:30.627Z"
    },
    "colab": {
     "base_uri": "https://localhost:8080/"
    },
    "executionInfo": {
     "elapsed": 730,
     "status": "ok",
     "timestamp": 1644112177493,
     "user": {
      "displayName": "Michael Duprey",
      "photoUrl": "https://lh3.googleusercontent.com/a-/AOh14GhbSFcjL36v0OKLBQ3jUFBauo0tBLUD-KT_zCMchw=s64",
      "userId": "05498947526580544465"
     },
     "user_tz": 420
    },
    "id": "xkemKFXaAmc3",
    "outputId": "f81e4b7b-b7d6-40e5-a24c-48bf3b895e44"
   },
   "outputs": [],
   "source": [
    "file = PDBList().retrieve_pdb_file(pdb_code='1a9x', file_format='pdb')"
   ]
  },
  {
   "cell_type": "markdown",
   "metadata": {
    "id": "eTeYVU733kcv"
   },
   "source": [
    "## View files"
   ]
  },
  {
   "cell_type": "code",
   "execution_count": null,
   "metadata": {
    "ExecuteTime": {
     "start_time": "2024-03-30T07:29:30.628Z"
    },
    "colab": {
     "base_uri": "https://localhost:8080/",
     "height": 514
    },
    "executionInfo": {
     "elapsed": 1144,
     "status": "ok",
     "timestamp": 1644112185970,
     "user": {
      "displayName": "Michael Duprey",
      "photoUrl": "https://lh3.googleusercontent.com/a-/AOh14GhbSFcjL36v0OKLBQ3jUFBauo0tBLUD-KT_zCMchw=s64",
      "userId": "05498947526580544465"
     },
     "user_tz": 420
    },
    "id": "TiEoPbkk0nWW",
    "outputId": "83891ffc-fd5b-476f-b373-a60d2a567252"
   },
   "outputs": [],
   "source": [
    "mol = view_mol(file, style = 'cartoon')\n",
    "mol"
   ]
  },
  {
   "cell_type": "code",
   "execution_count": null,
   "metadata": {
    "ExecuteTime": {
     "start_time": "2024-03-30T07:29:30.629Z"
    }
   },
   "outputs": [],
   "source": [
    "view = py3Dmol.view(query='pdb:1a9x')\n",
    "chA = {'chain':'A'}\n",
    "chB = {'chain':'B'}\n",
    "view.setStyle(chA,{'cartoon': {'color':'spectrum'}})\n",
    "view.addSurface(py3Dmol.VDW,{'opacity':0.7,'color':'white'}, chA)\n",
    "view.setStyle(chB,{'stick':{}})\n",
    "view.show()"
   ]
  }
 ],
 "metadata": {
  "accelerator": "GPU",
  "colab": {
   "authorship_tag": "ABX9TyPbA9lVR4r+UcE6VeKoOWuK",
   "collapsed_sections": [],
   "mount_file_id": "139Bvmh33NSqXJ4ymThNgkvN33UNRE-gD",
   "name": "protein-3D.ipynb",
   "provenance": []
  },
  "kernelspec": {
   "display_name": "MachineLearning",
   "language": "python",
   "name": "machinelearning"
  },
  "language_info": {
   "codemirror_mode": {
    "name": "ipython",
    "version": 3
   },
   "file_extension": ".py",
   "mimetype": "text/x-python",
   "name": "python",
   "nbconvert_exporter": "python",
   "pygments_lexer": "ipython3",
   "version": "3.8.18"
  }
 },
 "nbformat": 4,
 "nbformat_minor": 0
}
